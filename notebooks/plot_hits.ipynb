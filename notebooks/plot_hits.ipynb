{
 "cells": [
  {
   "cell_type": "code",
   "execution_count": 4,
   "metadata": {},
   "outputs": [],
   "source": [
    "%matplotlib widget\n",
    "\n",
    "from matplotlib.cm import ScalarMappable\n",
    "from matplotlib.colors import BoundaryNorm, ListedColormap\n",
    "import matplotlib.pyplot as plt\n",
    "import numpy as np\n",
    "import ipywidgets as widgets\n",
    "from IPython.display import display\n",
    "\n",
    "def create_3d_hit_plot(hits, color_col):\n",
    "    # Define a colormap\n",
    "    unique_t_values = np.sort(hits[color_col].unique())\n",
    "    N_t = len(unique_t_values)\n",
    "\n",
    "    # Create a mapping from t values to colors\n",
    "    cmap = plt.get_cmap(\"gist_rainbow\", len(unique_t_values))\n",
    "    t_to_color = {t: cmap(((i * (N_t // 2 - 1)) % N_t + 1) / N_t) for i, t in enumerate(unique_t_values)}\n",
    "\n",
    "    # Create a ListedColormap and BoundaryNorm for the color bar\n",
    "    colors = [t_to_color[t] for t in unique_t_values]\n",
    "    listed_cmap = ListedColormap(colors)\n",
    "    norm = BoundaryNorm(boundaries=np.arange(N_t + 1) - 0.5, ncolors=N_t)\n",
    "\n",
    "    # Calculate consistent limits for x, y, and z\n",
    "    x_min, x_max = hits[\"x\"].min(), hits[\"x\"].max()\n",
    "    y_min, y_max = hits[\"y\"].min(), hits[\"y\"].max()\n",
    "    z_min, z_max = hits[\"z\"].min(), hits[\"z\"].max()\n",
    "\n",
    "    # Function to create the plot\n",
    "    def create_plot(filtered_hits):\n",
    "        fig = plt.figure(figsize=(10, 8))\n",
    "        ax = fig.add_subplot(111, projection=\"3d\")\n",
    "        \n",
    "        colors = filtered_hits[color_col].map(t_to_color)\n",
    "        sc = ax.scatter(\n",
    "            filtered_hits[\"z\"], filtered_hits[\"x\"], filtered_hits[\"y\"], c=colors, alpha=0.5\n",
    "        )\n",
    "\n",
    "        # Add color bar\n",
    "        sm = ScalarMappable(cmap=listed_cmap, norm=norm)\n",
    "        sm.set_array([])\n",
    "        cbar = plt.colorbar(sm, ax=ax)\n",
    "        cbar.set_label(color_col)\n",
    "        cbar.set_ticks(np.arange(N_t))\n",
    "        cbar.set_ticklabels(unique_t_values)\n",
    "\n",
    "        # Set labels\n",
    "        ax.set_xlabel(\"Z\")\n",
    "        ax.set_ylabel(\"X\")\n",
    "        ax.set_zlabel(\"Y\")\n",
    "        ax.set_title(\"3D Scatter Plot of Hits\")\n",
    "\n",
    "        # Set consistent limits\n",
    "        ax.set_xlim(z_min, z_max)\n",
    "        ax.set_ylim(x_min, x_max)\n",
    "        ax.set_zlim(y_min, y_max)\n",
    "\n",
    "        plt.show()\n",
    "\n",
    "\n",
    "    # Function to update the plot based on the selected t range\n",
    "    def update_plot(t_range):\n",
    "        min_t, max_t = t_range[0] - 0.0001, t_range[1] + 0.0001\n",
    "        filtered_hits = hits[(hits[color_col] >= min_t) & (hits[color_col] <= max_t)]\n",
    "        create_plot(filtered_hits)\n",
    "\n",
    "\n",
    "    # Create a range slider widget for t selection\n",
    "    t_slider = widgets.FloatRangeSlider(\n",
    "        value=[hits[color_col].min(), hits[color_col].max()],\n",
    "        min=hits[color_col].min(),\n",
    "        max=hits[color_col].max(),\n",
    "        step=1,\n",
    "        description=\"t range:\",\n",
    "    )\n",
    "    output = widgets.interactive_output(update_plot, {\"t_range\": t_slider})\n",
    "    display(t_slider, output)"
   ]
  },
  {
   "cell_type": "markdown",
   "metadata": {},
   "source": [
    "## Squeezed Sinusoid Strategy\n",
    "\n",
    "Th cell below creates points with teh squeezed sinusoid strategy. Try using different values for `step_size_multiplier`. Note the following:\n",
    "1. Values below 2 are not a good choice because the generated values will not cover the full circle\n",
    "2. Even values are not a good choice because they will repeat the points after every rotation"
   ]
  },
  {
   "cell_type": "code",
   "execution_count": 9,
   "metadata": {},
   "outputs": [
    {
     "name": "stderr",
     "output_type": "stream",
     "text": [
      "/var/folders/w0/2rh4b4h16zdgh0jjh4zcw_vr0000gn/T/ipykernel_18613/393930041.py:24: FutureWarning: The behavior of DataFrame concatenation with empty or all-NA entries is deprecated. In a future version, this will no longer exclude empty or all-NA columns when determining the result dtypes. To retain the old behavior, exclude the relevant entries before the concat operation.\n",
      "  hits_df = pd.concat([hits_df, hits_df_new], ignore_index=True)\n"
     ]
    }
   ],
   "source": [
    "import os\n",
    "import sys\n",
    "import pandas as pd\n",
    "import torch\n",
    "from torch import Tensor\n",
    "\n",
    "# Add the parent directory to the Python path\n",
    "sys.path.append(os.path.abspath(os.path.join(os.getcwd(), '..')))\n",
    "\n",
    "from src.TimeStep.ForAdjusting.PlacementStrategy import SqueezedSinusoidStrategy\n",
    "from src.TimeStep.ForAdjusting.VolumeLayer import VLTimeStep\n",
    "\n",
    "strategy = SqueezedSinusoidStrategy(step_size_multiplier=2)\n",
    "time_step = VLTimeStep(placement_strategy=strategy)\n",
    "\n",
    "hits_df = pd.DataFrame(columns=[\"x\", \"y\", \"z\", \"t\"])\n",
    "num_t = time_step.get_num_time_steps()\n",
    "sizes = torch.randint(low=1000, high=2000, size=(num_t,), dtype=torch.int32)\n",
    "\n",
    "for t in range(num_t):\n",
    "    hits_t = time_step.place_hits(t, sizes[t:t+1])\n",
    "    hits_df_new = pd.DataFrame(hits_t.cpu().numpy(), columns=[\"x\", \"y\", \"z\"])\n",
    "    hits_df_new[\"t\"] = t\n",
    "    hits_df = pd.concat([hits_df, hits_df_new], ignore_index=True)\n",
    "    "
   ]
  },
  {
   "cell_type": "code",
   "execution_count": 10,
   "metadata": {},
   "outputs": [
    {
     "data": {
      "application/vnd.jupyter.widget-view+json": {
       "model_id": "bc3839c3b27745e6bf17b8627a60927a",
       "version_major": 2,
       "version_minor": 0
      },
      "text/plain": [
       "FloatRangeSlider(value=(0.0, 7.0), description='t range:', max=7.0, step=1.0)"
      ]
     },
     "metadata": {},
     "output_type": "display_data"
    },
    {
     "data": {
      "application/vnd.jupyter.widget-view+json": {
       "model_id": "c74975b9c1be447ca1af9a5fd6cf6b06",
       "version_major": 2,
       "version_minor": 0
      },
      "text/plain": [
       "Output()"
      ]
     },
     "metadata": {},
     "output_type": "display_data"
    }
   ],
   "source": [
    "create_3d_hit_plot(hits_df, color_col = \"t\")"
   ]
  }
 ],
 "metadata": {
  "kernelspec": {
   "display_name": "venv",
   "language": "python",
   "name": "python3"
  },
  "language_info": {
   "codemirror_mode": {
    "name": "ipython",
    "version": 3
   },
   "file_extension": ".py",
   "mimetype": "text/x-python",
   "name": "python",
   "nbconvert_exporter": "python",
   "pygments_lexer": "ipython3",
   "version": "3.11.10"
  }
 },
 "nbformat": 4,
 "nbformat_minor": 2
}
