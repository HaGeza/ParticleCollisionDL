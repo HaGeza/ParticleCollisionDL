{
 "cells": [
  {
   "cell_type": "code",
   "execution_count": 8,
   "metadata": {},
   "outputs": [],
   "source": [
    "%matplotlib widget\n",
    "\n",
    "from matplotlib.cm import ScalarMappable\n",
    "from matplotlib.colors import BoundaryNorm, ListedColormap\n",
    "import matplotlib.pyplot as plt\n",
    "import numpy as np\n",
    "import ipywidgets as widgets\n",
    "from IPython.display import display\n",
    "\n",
    "def create_3d_hit_plot(hits, color_col, point_size=1):\n",
    "    # Define a colormap\n",
    "    unique_t_values = np.sort(hits[color_col].unique())\n",
    "    N_t = len(unique_t_values)\n",
    "\n",
    "    # Create a mapping from t values to colors\n",
    "    cmap = plt.get_cmap(\"gist_rainbow\", len(unique_t_values))\n",
    "    t_to_color = {t: cmap(((i * (N_t // 2 - 1)) % N_t + 1) / N_t) for i, t in enumerate(unique_t_values)}\n",
    "\n",
    "    # Create a ListedColormap and BoundaryNorm for the color bar\n",
    "    colors = [t_to_color[t] for t in unique_t_values]\n",
    "    listed_cmap = ListedColormap(colors)\n",
    "    norm = BoundaryNorm(boundaries=np.arange(N_t + 1) - 0.5, ncolors=N_t)\n",
    "\n",
    "    # Calculate consistent limits for x, y, and z\n",
    "    x_min, x_max = hits[\"x\"].min(), hits[\"x\"].max()\n",
    "    y_min, y_max = hits[\"y\"].min(), hits[\"y\"].max()\n",
    "    z_min, z_max = hits[\"z\"].min(), hits[\"z\"].max()\n",
    "\n",
    "    # Function to create the plot\n",
    "    def create_plot(filtered_hits):\n",
    "        fig = plt.figure(figsize=(10, 8))\n",
    "        ax = fig.add_subplot(111, projection=\"3d\")\n",
    "        \n",
    "        colors = filtered_hits[color_col].map(t_to_color)\n",
    "        sc = ax.scatter(\n",
    "            filtered_hits[\"z\"], filtered_hits[\"x\"], filtered_hits[\"y\"], c=colors, alpha=0.5, s=point_size\n",
    "        )\n",
    "\n",
    "        # Add color bar\n",
    "        sm = ScalarMappable(cmap=listed_cmap, norm=norm)\n",
    "        sm.set_array([])\n",
    "        cbar = plt.colorbar(sm, ax=ax)\n",
    "        cbar.set_label(color_col)\n",
    "        cbar.set_ticks(np.arange(N_t))\n",
    "        cbar.set_ticklabels(unique_t_values)\n",
    "\n",
    "        # Set labels\n",
    "        ax.set_xlabel(\"Z\")\n",
    "        ax.set_ylabel(\"X\")\n",
    "        ax.set_zlabel(\"Y\")\n",
    "        ax.set_title(\"3D Scatter Plot of Hits\")\n",
    "\n",
    "        # Set consistent limits\n",
    "        ax.set_xlim(z_min, z_max)\n",
    "        ax.set_ylim(x_min, x_max)\n",
    "        ax.set_zlim(y_min, y_max)\n",
    "\n",
    "        plt.show()\n",
    "\n",
    "\n",
    "    # Function to update the plot based on the selected t range\n",
    "    def update_plot(t_range):\n",
    "        min_t, max_t = t_range[0] - 0.0001, t_range[1] + 0.0001\n",
    "        filtered_hits = hits[(hits[color_col] >= min_t) & (hits[color_col] <= max_t)]\n",
    "        create_plot(filtered_hits)\n",
    "\n",
    "\n",
    "    # Create a range slider widget for t selection\n",
    "    t_slider = widgets.FloatRangeSlider(\n",
    "        value=[hits[color_col].min(), hits[color_col].max()],\n",
    "        min=hits[color_col].min(),\n",
    "        max=hits[color_col].max(),\n",
    "        step=1,\n",
    "        description=\"t range:\",\n",
    "    )\n",
    "    output = widgets.interactive_output(update_plot, {\"t_range\": t_slider})\n",
    "    display(t_slider, output)"
   ]
  },
  {
   "cell_type": "markdown",
   "metadata": {},
   "source": [
    "## Sinusoid Strategy and Equidistant Strategy\n",
    "\n",
    "Th cell below creates points with the sinusoid and equidistant strategies. Try using different values for `step_size_multiplier` for sinusoid. Note the following:\n",
    "1. Values below 2 are not a good choice because the generated values will not cover the full circle\n",
    "2. Even values are not a good choice because they will repeat the points after every rotation"
   ]
  },
  {
   "cell_type": "code",
   "execution_count": 10,
   "metadata": {},
   "outputs": [
    {
     "name": "stderr",
     "output_type": "stream",
     "text": [
      "/var/folders/w0/2rh4b4h16zdgh0jjh4zcw_vr0000gn/T/ipykernel_64578/3362028377.py:65: FutureWarning: The behavior of DataFrame concatenation with empty or all-NA entries is deprecated. In a future version, this will no longer exclude empty or all-NA columns when determining the result dtypes. To retain the old behavior, exclude the relevant entries before the concat operation.\n",
      "  hits_df = pd.concat([hits_df, hits_df_new], ignore_index=True)\n",
      "/var/folders/w0/2rh4b4h16zdgh0jjh4zcw_vr0000gn/T/ipykernel_64578/3362028377.py:69: FutureWarning: The behavior of DataFrame concatenation with empty or all-NA entries is deprecated. In a future version, this will no longer exclude empty or all-NA columns when determining the result dtypes. To retain the old behavior, exclude the relevant entries before the concat operation.\n",
      "  gt_hits_df = pd.concat([gt_hits_df, gt_hits_df_new], ignore_index=True)\n"
     ]
    }
   ],
   "source": [
    "import sys\n",
    "import os\n",
    "\n",
    "import pandas as pd\n",
    "import torch\n",
    "from torch import Tensor\n",
    "from torch.nn import functional as F\n",
    "from tqdm import trange\n",
    "\n",
    "# Add the parent directory to the Python path\n",
    "sys.path.append(os.path.abspath(os.path.join(os.getcwd(), \"..\")))\n",
    "\n",
    "from src.Pairing import RepeatedKDTreeStrategy\n",
    "from src.Util.Paths import DATA_DIR\n",
    "from src.Util import CoordinateSystemEnum\n",
    "from src.Data.CollisionEventLoader import CollisionEventLoader\n",
    "from src.TimeStep.ForAdjusting.PlacementStrategy import SinusoidStrategy, EquidistantStrategy\n",
    "from src.TimeStep.ForAdjusting.VolumeLayer import VLTimeStep\n",
    "\n",
    "normalize_hits = False\n",
    "# strategy = SinusoidStrategy(step_size_multiplier=13.87193)\n",
    "placement_strategy = EquidistantStrategy()\n",
    "pairing_strategy = RepeatedKDTreeStrategy()\n",
    "time_step = VLTimeStep(placement_strategy=placement_strategy, normalize_hits=normalize_hits)\n",
    "\n",
    "root_dir = os.path.dirname(os.path.abspath(os.getcwd()))\n",
    "coordinate_system = CoordinateSystemEnum.CARTESIAN\n",
    "data_loader = CollisionEventLoader(\n",
    "    os.path.join(root_dir, DATA_DIR, \"train_sample\"),\n",
    "    time_step,\n",
    "    batch_size=1,\n",
    "    coordinate_system=coordinate_system,\n",
    "    normalize_hits=normalize_hits,\n",
    "    device=\"cpu\",\n",
    ")\n",
    "\n",
    "hits_df = pd.DataFrame(columns=[\"x\", \"y\", \"z\", \"t\"])\n",
    "gt_hits_df = pd.DataFrame(columns=[\"x\", \"y\", \"z\", \"t\"])\n",
    "\n",
    "num_t = time_step.get_num_time_steps()\n",
    "gt_hits_list, gt_batch_index, _ = next(iter(data_loader))\n",
    "\n",
    "pairings = []\n",
    "\n",
    "for t in trange(num_t):\n",
    "    gt_hits = gt_hits_list[t]\n",
    "    gt_index = gt_batch_index[t]\n",
    "\n",
    "    part_ids = time_step.assign_to_shell_parts(gt_hits, t, coordinate_system)\n",
    "    num_parts = time_step.get_num_shell_parts(t)\n",
    "    batch_size = data_loader.batch_size\n",
    "\n",
    "    batch_part_ids = gt_index * num_parts + part_ids\n",
    "    _, gt_size = torch.unique(batch_part_ids, return_counts=True)\n",
    "\n",
    "    gt_size = F.pad(gt_size, (0, num_parts * batch_size - gt_size.size(0)), value=0)\n",
    "    gt_size = gt_size.view(batch_size, num_parts)\n",
    "\n",
    "    # size = torch.ones_like(gt_size) * 1000\n",
    "    hits_t = time_step.place_hits(t, gt_size, coordinate_system=CoordinateSystemEnum.CARTESIAN)\n",
    "\n",
    "    pairings.append(pairing_strategy.create_pairs(hits_t, gt_hits, gt_index, gt_index)[0])\n",
    "\n",
    "    hits_df_new = pd.DataFrame(hits_t.cpu().numpy(), columns=[\"x\", \"y\", \"z\"])\n",
    "    hits_df_new[\"t\"] = t\n",
    "    hits_df = pd.concat([hits_df, hits_df_new], ignore_index=True)\n",
    "\n",
    "    gt_hits_df_new = pd.DataFrame(gt_hits.cpu().numpy(), columns=[\"x\", \"y\", \"z\"])\n",
    "    gt_hits_df_new[\"t\"] = t\n",
    "    gt_hits_df = pd.concat([gt_hits_df, gt_hits_df_new], ignore_index=True)"
   ]
  },
  {
   "cell_type": "code",
   "execution_count": 14,
   "metadata": {},
   "outputs": [
    {
     "data": {
      "application/vnd.jupyter.widget-view+json": {
       "model_id": "ca8fb2442d5e4ffab397fe39ec4b9416",
       "version_major": 2,
       "version_minor": 0
      },
      "text/plain": [
       "FloatRangeSlider(value=(0.0, 15.0), description='t range:', max=15.0, step=1.0)"
      ]
     },
     "metadata": {},
     "output_type": "display_data"
    },
    {
     "data": {
      "application/vnd.jupyter.widget-view+json": {
       "model_id": "237148f81d634c7db252b93c0cb48a69",
       "version_major": 2,
       "version_minor": 0
      },
      "text/plain": [
       "Output()"
      ]
     },
     "metadata": {},
     "output_type": "display_data"
    }
   ],
   "source": [
    "s_indices = hits_df.sample(frac=0.1).index\n",
    "\n",
    "s_hits_df = hits_df.loc[s_indices]\n",
    "s_gt_hits_df = gt_hits_df.loc[s_indices]\n",
    "\n",
    "s_hits_df[\"t\"] = s_hits_df[\"t\"] * 2\n",
    "s_gt_hits_df[\"t\"] = s_gt_hits_df[\"t\"] * 2 + 1\n",
    "\n",
    "combined_df = pd.concat([s_hits_df, s_gt_hits_df], ignore_index=True)\n",
    "\n",
    "create_3d_hit_plot(combined_df, color_col = \"t\", point_size=5)"
   ]
  }
 ],
 "metadata": {
  "kernelspec": {
   "display_name": "venv",
   "language": "python",
   "name": "python3"
  },
  "language_info": {
   "codemirror_mode": {
    "name": "ipython",
    "version": 3
   },
   "file_extension": ".py",
   "mimetype": "text/x-python",
   "name": "python",
   "nbconvert_exporter": "python",
   "pygments_lexer": "ipython3",
   "version": "3.11.10"
  }
 },
 "nbformat": 4,
 "nbformat_minor": 2
}
